{
  "nbformat": 4,
  "nbformat_minor": 0,
  "metadata": {
    "colab": {
      "provenance": [],
      "authorship_tag": "ABX9TyP7HHSQ0haPTOBJczH2/trA",
      "include_colab_link": true
    },
    "kernelspec": {
      "name": "python3",
      "display_name": "Python 3"
    },
    "language_info": {
      "name": "python"
    }
  },
  "cells": [
    {
      "cell_type": "markdown",
      "metadata": {
        "id": "view-in-github",
        "colab_type": "text"
      },
      "source": [
        "<a href=\"https://colab.research.google.com/github/HindumathiR/loan-eligibility-prediction/blob/main/loan_eligibility_prediction.ipynb\" target=\"_parent\"><img src=\"https://colab.research.google.com/assets/colab-badge.svg\" alt=\"Open In Colab\"/></a>"
      ]
    },
    {
      "cell_type": "code",
      "execution_count": 3,
      "metadata": {
        "colab": {
          "base_uri": "https://localhost:8080/"
        },
        "id": "M71CsIt5an3T",
        "outputId": "cca2ba62-9699-46ad-a217-cd41e5931271"
      },
      "outputs": [
        {
          "output_type": "stream",
          "name": "stdout",
          "text": [
            "\n",
            "✅ Classification Report:\n",
            "\n",
            "              precision    recall  f1-score   support\n",
            "\n",
            "    Rejected       0.96      0.58      0.72        38\n",
            "    Approved       0.84      0.99      0.91        85\n",
            "\n",
            "    accuracy                           0.86       123\n",
            "   macro avg       0.90      0.78      0.81       123\n",
            "weighted avg       0.88      0.86      0.85       123\n",
            "\n",
            "✅ Accuracy: 0.8618\n",
            "\n",
            "📦 Model saved to: /content/loan_model.joblib\n"
          ]
        }
      ],
      "source": [
        "# loan_train_colab_safe.py\n",
        "\n",
        "from pathlib import Path\n",
        "import argparse\n",
        "import pandas as pd\n",
        "import joblib\n",
        "\n",
        "from sklearn.model_selection import train_test_split\n",
        "from sklearn.pipeline import Pipeline\n",
        "from sklearn.compose import ColumnTransformer\n",
        "from sklearn.preprocessing import StandardScaler, OneHotEncoder\n",
        "from sklearn.linear_model import LogisticRegression\n",
        "from sklearn.metrics import classification_report, accuracy_score\n",
        "\n",
        "SEED = 42\n",
        "\n",
        "def load_data(path: Path) -> pd.DataFrame:\n",
        "    df = pd.read_csv(path)\n",
        "    return df\n",
        "\n",
        "def preprocess(df: pd.DataFrame):\n",
        "    y = df[\"Loan_Status\"].map({\"Y\": 1, \"N\": 0})\n",
        "    X = df.drop([\"Loan_ID\", \"Loan_Status\"], axis=1)\n",
        "\n",
        "    num_feats = [\"ApplicantIncome\", \"CoapplicantIncome\",\n",
        "                 \"LoanAmount\", \"Loan_Amount_Term\"]\n",
        "    cat_feats = [\"Gender\", \"Married\", \"Dependents\", \"Education\",\n",
        "                 \"Self_Employed\", \"Credit_History\", \"Property_Area\"]\n",
        "\n",
        "    # Fill missing values\n",
        "    X[num_feats] = X[num_feats].fillna(X[num_feats].median())\n",
        "    X[cat_feats] = X[cat_feats].fillna(X[cat_feats].mode().iloc[0])\n",
        "\n",
        "    return X, y, num_feats, cat_feats\n",
        "\n",
        "def build_pipeline(num_feats, cat_feats) -> Pipeline:\n",
        "    numeric_pipe = Pipeline([(\"scaler\", StandardScaler())])\n",
        "    categorical_pipe = Pipeline([(\"onehot\", OneHotEncoder(handle_unknown=\"ignore\"))])\n",
        "\n",
        "    preprocessor = ColumnTransformer([\n",
        "        (\"num\", numeric_pipe, num_feats),\n",
        "        (\"cat\", categorical_pipe, cat_feats)\n",
        "    ])\n",
        "\n",
        "    classifier = LogisticRegression(max_iter=1000, random_state=SEED)\n",
        "    return Pipeline([(\"pre\", preprocessor), (\"clf\", classifier)])\n",
        "\n",
        "def train_and_eval(data_path: Path, save_path: Path):\n",
        "    df = load_data(data_path)\n",
        "    X, y, num_feats, cat_feats = preprocess(df)\n",
        "\n",
        "    X_train, X_test, y_train, y_test = train_test_split(\n",
        "        X, y, test_size=0.2, stratify=y, random_state=SEED\n",
        "    )\n",
        "\n",
        "    pipe = build_pipeline(num_feats, cat_feats)\n",
        "    pipe.fit(X_train, y_train)\n",
        "\n",
        "    preds = pipe.predict(X_test)\n",
        "    print(\"\\n✅ Classification Report:\\n\")\n",
        "    print(classification_report(y_test, preds, target_names=[\"Rejected\", \"Approved\"]))\n",
        "    print(f\"✅ Accuracy: {accuracy_score(y_test, preds):.4f}\")\n",
        "\n",
        "    joblib.dump(pipe, save_path)\n",
        "    print(f\"\\n📦 Model saved to: {save_path.resolve()}\")\n",
        "\n",
        "# ✅ Safe for Colab and Jupyter\n",
        "if __name__ == \"__main__\":\n",
        "    parser = argparse.ArgumentParser(description=\"Train Loan Eligibility Model\")\n",
        "    parser.add_argument(\n",
        "        \"--data\",\n",
        "        type=Path,\n",
        "        default=Path(\"/content/loantrain.csv.csv\"),  # Your file path\n",
        "        help=\"Path to train.csv with Loan_Status\"\n",
        "    )\n",
        "    parser.add_argument(\n",
        "        \"--save\",\n",
        "        type=Path,\n",
        "        default=Path(\"loan_model.joblib\"),\n",
        "        help=\"Where to store the fitted model\"\n",
        "    )\n",
        "    args, _ = parser.parse_known_args()  # <- avoids Jupyter's -f argument crash\n",
        "    train_and_eval(args.data, args.save)\n"
      ]
    },
    {
      "cell_type": "code",
      "source": [
        "import pandas as pd\n",
        "import joblib\n",
        "\n",
        "# 1. Load test data\n",
        "test_df = pd.read_csv(\"/content/loantest.csv.csv\")\n",
        "\n",
        "# 2. Load trained model\n",
        "model = joblib.load(\"/content/loan_model.joblib\")\n",
        "\n",
        "# 3. Backup Loan_ID for submission\n",
        "test_ids = test_df[\"Loan_ID\"]\n",
        "\n",
        "# 4. Define numerical and categorical columns\n",
        "num_feats = [\"ApplicantIncome\", \"CoapplicantIncome\", \"LoanAmount\", \"Loan_Amount_Term\"]\n",
        "cat_feats = [\"Gender\", \"Married\", \"Dependents\", \"Education\",\n",
        "             \"Self_Employed\", \"Credit_History\", \"Property_Area\"]\n",
        "\n",
        "# 5. Handle missing values (same as training)\n",
        "test_df[num_feats] = test_df[num_feats].fillna(test_df[num_feats].median())\n",
        "test_df[cat_feats] = test_df[cat_feats].fillna(test_df[cat_feats].mode().iloc[0])\n",
        "\n",
        "# 6. Drop Loan_ID before prediction\n",
        "X_test = test_df.drop(\"Loan_ID\", axis=1)\n",
        "\n",
        "# 7. Predict with model (gives 0 or 1)\n",
        "predictions = model.predict(X_test)\n",
        "\n",
        "# 8. Convert 0 → 'N' and 1 → 'Y'\n",
        "labels = pd.Series(predictions).map({0: \"N\", 1: \"Y\"})\n",
        "\n",
        "# 9. Create final submission DataFrame\n",
        "submission = pd.DataFrame({\n",
        "    \"Loan_ID\": test_ids,\n",
        "    \"Loan_Status\": labels\n",
        "})\n",
        "\n",
        "# 10. Save to CSV\n",
        "submission.to_csv(\"/content/submission.csv\", index=False)\n",
        "print(\"✅ submission.csv saved successfully!\")\n"
      ],
      "metadata": {
        "colab": {
          "base_uri": "https://localhost:8080/"
        },
        "id": "zRScORU5dgF7",
        "outputId": "3b9b7af1-c0ca-476d-d225-087b0303d57c"
      },
      "execution_count": 4,
      "outputs": [
        {
          "output_type": "stream",
          "name": "stdout",
          "text": [
            "✅ submission.csv saved successfully!\n"
          ]
        }
      ]
    },
    {
      "cell_type": "code",
      "source": [
        "import pandas as pd\n",
        "from pathlib import Path\n",
        "from sklearn.compose import ColumnTransformer\n",
        "from sklearn.preprocessing import OneHotEncoder, StandardScaler\n",
        "from sklearn.pipeline import Pipeline\n",
        "from sklearn.linear_model import LogisticRegression\n",
        "from sklearn.ensemble import RandomForestClassifier\n",
        "from sklearn.model_selection import train_test_split, GridSearchCV\n",
        "from sklearn.metrics import classification_report, accuracy_score\n",
        "\n",
        "# Path to your labelled training data\n",
        "DATA_PATH = Path(\"/content/loantrain.csv.csv\")  # adjust if needed\n",
        "df = pd.read_csv(DATA_PATH)\n",
        "\n",
        "# Feature groups\n",
        "NUM = [\"ApplicantIncome\", \"CoapplicantIncome\", \"LoanAmount\", \"Loan_Amount_Term\"]\n",
        "CAT = [\"Gender\", \"Married\", \"Dependents\", \"Education\",\n",
        "       \"Self_Employed\", \"Credit_History\", \"Property_Area\"]\n",
        "\n",
        "# Basic imputations\n",
        "df[NUM] = df[NUM].fillna(df[NUM].median())\n",
        "df[CAT] = df[CAT].fillna(df[CAT].mode().iloc[0])\n",
        "\n",
        "X = df.drop([\"Loan_ID\", \"Loan_Status\"], axis=1)\n",
        "y = df[\"Loan_Status\"].map({\"Y\": 1, \"N\": 0})\n",
        "\n",
        "X_train, X_test, y_train, y_test = train_test_split(\n",
        "    X, y, test_size=0.2, stratify=y, random_state=42\n",
        ")\n",
        "\n",
        "pre = ColumnTransformer([\n",
        "    (\"num\", Pipeline([(\"scaler\", StandardScaler())]), NUM),\n",
        "    (\"cat\", Pipeline([(\"onehot\", OneHotEncoder(handle_unknown=\"ignore\"))]), CAT)\n",
        "])\n"
      ],
      "metadata": {
        "id": "kJ0YG5qGg7ir"
      },
      "execution_count": 5,
      "outputs": []
    },
    {
      "cell_type": "code",
      "source": [
        "import matplotlib.pyplot as plt\n",
        "import numpy as np\n",
        "\n",
        "log_clf = LogisticRegression(max_iter=1000, random_state=42)\n",
        "log_pipe = Pipeline([(\"pre\", pre), (\"clf\", log_clf)])\n",
        "log_pipe.fit(X_train, y_train)\n",
        "\n",
        "feature_names = log_pipe.named_steps[\"pre\"].get_feature_names_out()\n",
        "coefs = log_pipe.named_steps[\"clf\"].coef_[0]\n",
        "imp_df = (\n",
        "    pd.DataFrame({\"feature\": feature_names, \"coef\": coefs})\n",
        "      .assign(importance=lambda d: d[\"coef\"].abs())\n",
        "      .nlargest(15, \"importance\")\n",
        "      .sort_values(\"importance\")\n",
        ")\n",
        "\n",
        "plt.figure(figsize=(8, 5))\n",
        "plt.barh(imp_df[\"feature\"], imp_df[\"coef\"])\n",
        "plt.axvline(0, color=\"black\", linewidth=0.8)\n",
        "plt.title(\"Top 15 Feature Coefficients (Logistic Regression)\")\n",
        "plt.xlabel(\"Coefficient   (positive → approval, negative → rejection)\")\n",
        "plt.tight_layout()\n",
        "plt.show()\n"
      ],
      "metadata": {
        "colab": {
          "base_uri": "https://localhost:8080/",
          "height": 507
        },
        "id": "EGtZ_eE_hAUN",
        "outputId": "dcf64daf-5566-4535-ba64-f18c8d3e0297"
      },
      "execution_count": 6,
      "outputs": [
        {
          "output_type": "display_data",
          "data": {
            "text/plain": [
              "<Figure size 800x500 with 1 Axes>"
            ],
            "image/png": "[encoded data removed]"
          },
          "metadata": {}
        }
      ]
    },
    {
      "cell_type": "code",
      "source": [
        "param_grid = {\n",
        "    \"clf__C\": [0.01, 0.1, 1, 10, 100],\n",
        "    \"clf__penalty\": [\"l2\", \"l1\"],\n",
        "    \"clf__solver\": [\"liblinear\"],  # supports l1 and l2\n",
        "}\n",
        "gs = GridSearchCV(\n",
        "    estimator=Pipeline([(\"pre\", pre), (\"clf\", LogisticRegression(max_iter=1000, random_state=42))]),\n",
        "    param_grid=param_grid,\n",
        "    cv=5,\n",
        "    scoring=\"accuracy\",\n",
        "    n_jobs=-1\n",
        ")\n",
        "gs.fit(X_train, y_train)\n",
        "\n",
        "print(\"Best CV accuracy:\", gs.best_score_)\n",
        "print(\"Best params:\", gs.best_params_)\n",
        "\n",
        "best_log_pipe = gs.best_estimator_\n",
        "print(\"Test accuracy:\", accuracy_score(y_test, best_log_pipe.predict(X_test)))\n"
      ],
      "metadata": {
        "colab": {
          "base_uri": "https://localhost:8080/"
        },
        "id": "bG2WOKt6hW9q",
        "outputId": "427d5173-1b01-4c20-ed62-3160dac82956"
      },
      "execution_count": 7,
      "outputs": [
        {
          "output_type": "stream",
          "name": "stdout",
          "text": [
            "Best CV accuracy: 0.7983714698000413\n",
            "Best params: {'clf__C': 0.1, 'clf__penalty': 'l2', 'clf__solver': 'liblinear'}\n",
            "Test accuracy: 0.8617886178861789\n"
          ]
        }
      ]
    },
    {
      "cell_type": "code",
      "source": [
        "rf_pipe = Pipeline([\n",
        "    (\"pre\", pre),\n",
        "    (\"clf\", RandomForestClassifier(n_estimators=300, random_state=42))\n",
        "])\n",
        "rf_pipe.fit(X_train, y_train)\n",
        "\n",
        "print(\"LogReg test acc:\", accuracy_score(y_test, best_log_pipe.predict(X_test)))\n",
        "print(\"RandomForest test acc:\", accuracy_score(y_test, rf_pipe.predict(X_test)))\n"
      ],
      "metadata": {
        "colab": {
          "base_uri": "https://localhost:8080/"
        },
        "id": "-ZIxKW20hdPP",
        "outputId": "02960800-a27d-4b16-bfcc-7b905b7e7b92"
      },
      "execution_count": 8,
      "outputs": [
        {
          "output_type": "stream",
          "name": "stdout",
          "text": [
            "LogReg test acc: 0.8617886178861789\n",
            "RandomForest test acc: 0.8130081300813008\n"
          ]
        }
      ]
    },
    {
      "cell_type": "code",
      "source": [
        "from xgboost import XGBClassifier\n",
        "xgb_pipe = Pipeline([\n",
        "    (\"pre\", pre),\n",
        "    (\"clf\", XGBClassifier(\n",
        "        n_estimators=500, learning_rate=0.1,\n",
        "        max_depth=5, subsample=0.8, objective=\"binary:logistic\",\n",
        "        random_state=42, eval_metric=\"logloss\"))\n",
        "])\n"
      ],
      "metadata": {
        "id": "QXrS6KJChlue"
      },
      "execution_count": 10,
      "outputs": []
    },
    {
      "cell_type": "code",
      "source": [
        "import streamlit as st\n",
        "import pandas as pd\n",
        "import joblib\n",
        "\n",
        "# Load model\n",
        "model = joblib.load(\"/content/loan_model.joblib\")\n",
        "\n",
        "st.title(\"🏦 Loan Eligibility Predictor\")\n",
        "st.markdown(\"Enter applicant details to check if loan will be approved.\")\n",
        "\n",
        "# Input widgets\n",
        "gender = st.selectbox(\"Gender\", [\"Male\", \"Female\"])\n",
        "married = st.selectbox(\"Married\", [\"Yes\", \"No\"])\n",
        "dependents = st.selectbox(\"Dependents\", [\"0\", \"1\", \"2\", \"3+\"])\n",
        "education = st.selectbox(\"Education\", [\"Graduate\", \"Not Graduate\"])\n",
        "self_employed = st.selectbox(\"Self Employed\", [\"No\", \"Yes\"])\n",
        "credit_history = st.selectbox(\"Credit History\", [1.0, 0.0])\n",
        "property_area = st.selectbox(\"Property Area\", [\"Urban\", \"Semiurban\", \"Rural\"])\n",
        "applicant_income = st.number_input(\"Applicant Income\", min_value=0)\n",
        "coapplicant_income = st.number_input(\"Coapplicant Income\", min_value=0)\n",
        "loan_amount = st.number_input(\"Loan Amount (in thousands)\", min_value=0)\n",
        "loan_term = st.number_input(\"Loan Term (in months)\", min_value=0, value=360)\n",
        "\n",
        "# Predict button\n",
        "if st.button(\"Check Loan Status\"):\n",
        "    row = pd.DataFrame([{\n",
        "        \"Gender\": gender,\n",
        "        \"Married\": married,\n",
        "        \"Dependents\": dependents,\n",
        "        \"Education\": education,\n",
        "        \"Self_Employed\": self_employed,\n",
        "        \"Credit_History\": credit_history,\n",
        "        \"Property_Area\": property_area,\n",
        "        \"ApplicantIncome\": applicant_income,\n",
        "        \"CoapplicantIncome\": coapplicant_income,\n",
        "        \"LoanAmount\": loan_amount,\n",
        "        \"Loan_Amount_Term\": loan_term\n",
        "    }])\n",
        "\n",
        "    pred = model.predict(row)[0]\n",
        "    proba = model.predict_proba(row)[0][1]\n",
        "\n",
        "    if pred == 1:\n",
        "        st.success(f\"✅ Loan Approved! (Probability: {proba:.2f})\")\n",
        "    else:\n",
        "        st.error(f\"❌ Loan Rejected (Probability: {proba:.2f})\")\n"
      ],
      "metadata": {
        "colab": {
          "base_uri": "https://localhost:8080/"
        },
        "id": "s_OXD9qthpJt",
        "outputId": "6a0fb416-7edb-4ef5-f5ea-ebb076cd9cfb"
      },
      "execution_count": 16,
      "outputs": [
        {
          "output_type": "stream",
          "name": "stderr",
          "text": [
            "2025-07-16 14:04:27.693 WARNING streamlit.runtime.scriptrunner_utils.script_run_context: Thread 'MainThread': missing ScriptRunContext! This warning can be ignored when running in bare mode.\n",
            "2025-07-16 14:04:28.118 \n",
            "  \u001b[33m\u001b[1mWarning:\u001b[0m to view this Streamlit app on a browser, run it with the following\n",
            "  command:\n",
            "\n",
            "    streamlit run /usr/local/lib/python3.11/dist-packages/colab_kernel_launcher.py [ARGUMENTS]\n",
            "2025-07-16 14:04:28.121 Thread 'MainThread': missing ScriptRunContext! This warning can be ignored when running in bare mode.\n",
            "2025-07-16 14:04:28.124 Thread 'MainThread': missing ScriptRunContext! This warning can be ignored when running in bare mode.\n",
            "2025-07-16 14:04:28.126 Thread 'MainThread': missing ScriptRunContext! This warning can be ignored when running in bare mode.\n",
            "2025-07-16 14:04:28.127 Thread 'MainThread': missing ScriptRunContext! This warning can be ignored when running in bare mode.\n",
            "2025-07-16 14:04:28.131 Thread 'MainThread': missing ScriptRunContext! This warning can be ignored when running in bare mode.\n",
            "2025-07-16 14:04:28.136 Thread 'MainThread': missing ScriptRunContext! This warning can be ignored when running in bare mode.\n",
            "2025-07-16 14:04:28.139 Thread 'MainThread': missing ScriptRunContext! This warning can be ignored when running in bare mode.\n",
            "2025-07-16 14:04:28.141 Thread 'MainThread': missing ScriptRunContext! This warning can be ignored when running in bare mode.\n",
            "2025-07-16 14:04:28.147 Thread 'MainThread': missing ScriptRunContext! This warning can be ignored when running in bare mode.\n",
            "2025-07-16 14:04:28.148 Session state does not function when running a script without `streamlit run`\n",
            "2025-07-16 14:04:28.150 Thread 'MainThread': missing ScriptRunContext! This warning can be ignored when running in bare mode.\n",
            "2025-07-16 14:04:28.155 Thread 'MainThread': missing ScriptRunContext! This warning can be ignored when running in bare mode.\n",
            "2025-07-16 14:04:28.157 Thread 'MainThread': missing ScriptRunContext! This warning can be ignored when running in bare mode.\n",
            "2025-07-16 14:04:28.158 Thread 'MainThread': missing ScriptRunContext! This warning can be ignored when running in bare mode.\n",
            "2025-07-16 14:04:28.160 Thread 'MainThread': missing ScriptRunContext! This warning can be ignored when running in bare mode.\n",
            "2025-07-16 14:04:28.165 Thread 'MainThread': missing ScriptRunContext! This warning can be ignored when running in bare mode.\n",
            "2025-07-16 14:04:28.171 Thread 'MainThread': missing ScriptRunContext! This warning can be ignored when running in bare mode.\n",
            "2025-07-16 14:04:28.173 Thread 'MainThread': missing ScriptRunContext! This warning can be ignored when running in bare mode.\n",
            "2025-07-16 14:04:28.178 Thread 'MainThread': missing ScriptRunContext! This warning can be ignored when running in bare mode.\n",
            "2025-07-16 14:04:28.181 Thread 'MainThread': missing ScriptRunContext! This warning can be ignored when running in bare mode.\n",
            "2025-07-16 14:04:28.183 Thread 'MainThread': missing ScriptRunContext! This warning can be ignored when running in bare mode.\n",
            "2025-07-16 14:04:28.188 Thread 'MainThread': missing ScriptRunContext! This warning can be ignored when running in bare mode.\n",
            "2025-07-16 14:04:28.190 Thread 'MainThread': missing ScriptRunContext! This warning can be ignored when running in bare mode.\n",
            "2025-07-16 14:04:28.191 Thread 'MainThread': missing ScriptRunContext! This warning can be ignored when running in bare mode.\n",
            "2025-07-16 14:04:28.193 Thread 'MainThread': missing ScriptRunContext! This warning can be ignored when running in bare mode.\n",
            "2025-07-16 14:04:28.195 Thread 'MainThread': missing ScriptRunContext! This warning can be ignored when running in bare mode.\n",
            "2025-07-16 14:04:28.199 Thread 'MainThread': missing ScriptRunContext! This warning can be ignored when running in bare mode.\n",
            "2025-07-16 14:04:28.200 Thread 'MainThread': missing ScriptRunContext! This warning can be ignored when running in bare mode.\n",
            "2025-07-16 14:04:28.202 Thread 'MainThread': missing ScriptRunContext! This warning can be ignored when running in bare mode.\n",
            "2025-07-16 14:04:28.203 Thread 'MainThread': missing ScriptRunContext! This warning can be ignored when running in bare mode.\n",
            "2025-07-16 14:04:28.207 Thread 'MainThread': missing ScriptRunContext! This warning can be ignored when running in bare mode.\n",
            "2025-07-16 14:04:28.209 Thread 'MainThread': missing ScriptRunContext! This warning can be ignored when running in bare mode.\n",
            "2025-07-16 14:04:28.211 Thread 'MainThread': missing ScriptRunContext! This warning can be ignored when running in bare mode.\n",
            "2025-07-16 14:04:28.213 Thread 'MainThread': missing ScriptRunContext! This warning can be ignored when running in bare mode.\n",
            "2025-07-16 14:04:28.215 Thread 'MainThread': missing ScriptRunContext! This warning can be ignored when running in bare mode.\n",
            "2025-07-16 14:04:28.217 Thread 'MainThread': missing ScriptRunContext! This warning can be ignored when running in bare mode.\n",
            "2025-07-16 14:04:28.220 Thread 'MainThread': missing ScriptRunContext! This warning can be ignored when running in bare mode.\n",
            "2025-07-16 14:04:28.222 Thread 'MainThread': missing ScriptRunContext! This warning can be ignored when running in bare mode.\n",
            "2025-07-16 14:04:28.224 Thread 'MainThread': missing ScriptRunContext! This warning can be ignored when running in bare mode.\n",
            "2025-07-16 14:04:28.229 Thread 'MainThread': missing ScriptRunContext! This warning can be ignored when running in bare mode.\n",
            "2025-07-16 14:04:28.232 Thread 'MainThread': missing ScriptRunContext! This warning can be ignored when running in bare mode.\n",
            "2025-07-16 14:04:28.236 Thread 'MainThread': missing ScriptRunContext! This warning can be ignored when running in bare mode.\n",
            "2025-07-16 14:04:28.237 Thread 'MainThread': missing ScriptRunContext! This warning can be ignored when running in bare mode.\n",
            "2025-07-16 14:04:28.239 Thread 'MainThread': missing ScriptRunContext! This warning can be ignored when running in bare mode.\n",
            "2025-07-16 14:04:28.245 Thread 'MainThread': missing ScriptRunContext! This warning can be ignored when running in bare mode.\n",
            "2025-07-16 14:04:28.249 Thread 'MainThread': missing ScriptRunContext! This warning can be ignored when running in bare mode.\n",
            "2025-07-16 14:04:28.253 Thread 'MainThread': missing ScriptRunContext! This warning can be ignored when running in bare mode.\n",
            "2025-07-16 14:04:28.255 Thread 'MainThread': missing ScriptRunContext! This warning can be ignored when running in bare mode.\n",
            "2025-07-16 14:04:28.258 Thread 'MainThread': missing ScriptRunContext! This warning can be ignored when running in bare mode.\n",
            "2025-07-16 14:04:28.259 Thread 'MainThread': missing ScriptRunContext! This warning can be ignored when running in bare mode.\n",
            "2025-07-16 14:04:28.262 Thread 'MainThread': missing ScriptRunContext! This warning can be ignored when running in bare mode.\n",
            "2025-07-16 14:04:28.263 Thread 'MainThread': missing ScriptRunContext! This warning can be ignored when running in bare mode.\n",
            "2025-07-16 14:04:28.267 Thread 'MainThread': missing ScriptRunContext! This warning can be ignored when running in bare mode.\n",
            "2025-07-16 14:04:28.269 Thread 'MainThread': missing ScriptRunContext! This warning can be ignored when running in bare mode.\n",
            "2025-07-16 14:04:28.270 Thread 'MainThread': missing ScriptRunContext! This warning can be ignored when running in bare mode.\n",
            "2025-07-16 14:04:28.271 Thread 'MainThread': missing ScriptRunContext! This warning can be ignored when running in bare mode.\n",
            "2025-07-16 14:04:28.271 Thread 'MainThread': missing ScriptRunContext! This warning can be ignored when running in bare mode.\n",
            "2025-07-16 14:04:28.272 Thread 'MainThread': missing ScriptRunContext! This warning can be ignored when running in bare mode.\n",
            "2025-07-16 14:04:28.274 Thread 'MainThread': missing ScriptRunContext! This warning can be ignored when running in bare mode.\n",
            "2025-07-16 14:04:28.275 Thread 'MainThread': missing ScriptRunContext! This warning can be ignored when running in bare mode.\n",
            "2025-07-16 14:04:28.276 Thread 'MainThread': missing ScriptRunContext! This warning can be ignored when running in bare mode.\n",
            "2025-07-16 14:04:28.278 Thread 'MainThread': missing ScriptRunContext! This warning can be ignored when running in bare mode.\n",
            "2025-07-16 14:04:28.279 Thread 'MainThread': missing ScriptRunContext! This warning can be ignored when running in bare mode.\n",
            "2025-07-16 14:04:28.281 Thread 'MainThread': missing ScriptRunContext! This warning can be ignored when running in bare mode.\n",
            "2025-07-16 14:04:28.282 Thread 'MainThread': missing ScriptRunContext! This warning can be ignored when running in bare mode.\n",
            "2025-07-16 14:04:28.284 Thread 'MainThread': missing ScriptRunContext! This warning can be ignored when running in bare mode.\n",
            "2025-07-16 14:04:28.285 Thread 'MainThread': missing ScriptRunContext! This warning can be ignored when running in bare mode.\n",
            "2025-07-16 14:04:28.290 Thread 'MainThread': missing ScriptRunContext! This warning can be ignored when running in bare mode.\n",
            "2025-07-16 14:04:28.292 Thread 'MainThread': missing ScriptRunContext! This warning can be ignored when running in bare mode.\n",
            "2025-07-16 14:04:28.293 Thread 'MainThread': missing ScriptRunContext! This warning can be ignored when running in bare mode.\n",
            "2025-07-16 14:04:28.294 Thread 'MainThread': missing ScriptRunContext! This warning can be ignored when running in bare mode.\n",
            "2025-07-16 14:04:28.295 Thread 'MainThread': missing ScriptRunContext! This warning can be ignored when running in bare mode.\n",
            "2025-07-16 14:04:28.296 Thread 'MainThread': missing ScriptRunContext! This warning can be ignored when running in bare mode.\n",
            "2025-07-16 14:04:28.297 Thread 'MainThread': missing ScriptRunContext! This warning can be ignored when running in bare mode.\n",
            "2025-07-16 14:04:28.300 Thread 'MainThread': missing ScriptRunContext! This warning can be ignored when running in bare mode.\n",
            "2025-07-16 14:04:28.301 Thread 'MainThread': missing ScriptRunContext! This warning can be ignored when running in bare mode.\n",
            "2025-07-16 14:04:28.301 Thread 'MainThread': missing ScriptRunContext! This warning can be ignored when running in bare mode.\n",
            "2025-07-16 14:04:28.304 Thread 'MainThread': missing ScriptRunContext! This warning can be ignored when running in bare mode.\n",
            "2025-07-16 14:04:28.304 Thread 'MainThread': missing ScriptRunContext! This warning can be ignored when running in bare mode.\n",
            "2025-07-16 14:04:28.305 Thread 'MainThread': missing ScriptRunContext! This warning can be ignored when running in bare mode.\n",
            "2025-07-16 14:04:28.307 Thread 'MainThread': missing ScriptRunContext! This warning can be ignored when running in bare mode.\n",
            "2025-07-16 14:04:28.308 Thread 'MainThread': missing ScriptRunContext! This warning can be ignored when running in bare mode.\n",
            "2025-07-16 14:04:28.308 Thread 'MainThread': missing ScriptRunContext! This warning can be ignored when running in bare mode.\n",
            "2025-07-16 14:04:28.311 Thread 'MainThread': missing ScriptRunContext! This warning can be ignored when running in bare mode.\n",
            "2025-07-16 14:04:28.311 Thread 'MainThread': missing ScriptRunContext! This warning can be ignored when running in bare mode.\n",
            "2025-07-16 14:04:28.314 Thread 'MainThread': missing ScriptRunContext! This warning can be ignored when running in bare mode.\n",
            "2025-07-16 14:04:28.315 Thread 'MainThread': missing ScriptRunContext! This warning can be ignored when running in bare mode.\n",
            "2025-07-16 14:04:28.315 Thread 'MainThread': missing ScriptRunContext! This warning can be ignored when running in bare mode.\n",
            "2025-07-16 14:04:28.318 Thread 'MainThread': missing ScriptRunContext! This warning can be ignored when running in bare mode.\n"
          ]
        }
      ]
    },
    {
      "cell_type": "code",
      "source": [
        "!pip install streamlit\n"
      ],
      "metadata": {
        "colab": {
          "base_uri": "https://localhost:8080/"
        },
        "id": "3gBPE9qpjMWz",
        "outputId": "c243d31b-8f53-4784-f469-bf10ea2f8a3c"
      },
      "execution_count": 15,
      "outputs": [
        {
          "output_type": "stream",
          "name": "stdout",
          "text": [
            "Collecting streamlit\n",
            "  Downloading streamlit-1.46.1-py3-none-any.whl.metadata (9.0 kB)\n",
            "Requirement already satisfied: altair<6,>=4.0 in /usr/local/lib/python3.11/dist-packages (from streamlit) (5.5.0)\n",
            "Requirement already satisfied: blinker<2,>=1.5.0 in /usr/local/lib/python3.11/dist-packages (from streamlit) (1.9.0)\n",
            "Requirement already satisfied: cachetools<7,>=4.0 in /usr/local/lib/python3.11/dist-packages (from streamlit) (5.5.2)\n",
            "Requirement already satisfied: click<9,>=7.0 in /usr/local/lib/python3.11/dist-packages (from streamlit) (8.2.1)\n",
            "Requirement already satisfied: numpy<3,>=1.23 in /usr/local/lib/python3.11/dist-packages (from streamlit) (2.0.2)\n",
            "Requirement already satisfied: packaging<26,>=20 in /usr/local/lib/python3.11/dist-packages (from streamlit) (24.2)\n",
            "Requirement already satisfied: pandas<3,>=1.4.0 in /usr/local/lib/python3.11/dist-packages (from streamlit) (2.2.2)\n",
            "Requirement already satisfied: pillow<12,>=7.1.0 in /usr/local/lib/python3.11/dist-packages (from streamlit) (11.2.1)\n",
            "Requirement already satisfied: protobuf<7,>=3.20 in /usr/local/lib/python3.11/dist-packages (from streamlit) (5.29.5)\n",
            "Requirement already satisfied: pyarrow>=7.0 in /usr/local/lib/python3.11/dist-packages (from streamlit) (18.1.0)\n",
            "Requirement already satisfied: requests<3,>=2.27 in /usr/local/lib/python3.11/dist-packages (from streamlit) (2.32.3)\n",
            "Requirement already satisfied: tenacity<10,>=8.1.0 in /usr/local/lib/python3.11/dist-packages (from streamlit) (8.5.0)\n",
            "Requirement already satisfied: toml<2,>=0.10.1 in /usr/local/lib/python3.11/dist-packages (from streamlit) (0.10.2)\n",
            "Requirement already satisfied: typing-extensions<5,>=4.4.0 in /usr/local/lib/python3.11/dist-packages (from streamlit) (4.14.1)\n",
            "Collecting watchdog<7,>=2.1.5 (from streamlit)\n",
            "  Downloading watchdog-6.0.0-py3-none-manylinux2014_x86_64.whl.metadata (44 kB)\n",
            "\u001b[2K     \u001b[90m━━━━━━━━━━━━━━━━━━━━━━━━━━━━━━━━━━━━━━━━\u001b[0m \u001b[32m44.3/44.3 kB\u001b[0m \u001b[31m2.6 MB/s\u001b[0m eta \u001b[36m0:00:00\u001b[0m\n",
            "\u001b[?25hRequirement already satisfied: gitpython!=3.1.19,<4,>=3.0.7 in /usr/local/lib/python3.11/dist-packages (from streamlit) (3.1.44)\n",
            "Collecting pydeck<1,>=0.8.0b4 (from streamlit)\n",
            "  Downloading pydeck-0.9.1-py2.py3-none-any.whl.metadata (4.1 kB)\n",
            "Requirement already satisfied: tornado!=6.5.0,<7,>=6.0.3 in /usr/local/lib/python3.11/dist-packages (from streamlit) (6.4.2)\n",
            "Requirement already satisfied: jinja2 in /usr/local/lib/python3.11/dist-packages (from altair<6,>=4.0->streamlit) (3.1.6)\n",
            "Requirement already satisfied: jsonschema>=3.0 in /usr/local/lib/python3.11/dist-packages (from altair<6,>=4.0->streamlit) (4.24.0)\n",
            "Requirement already satisfied: narwhals>=1.14.2 in /usr/local/lib/python3.11/dist-packages (from altair<6,>=4.0->streamlit) (1.46.0)\n",
            "Requirement already satisfied: gitdb<5,>=4.0.1 in /usr/local/lib/python3.11/dist-packages (from gitpython!=3.1.19,<4,>=3.0.7->streamlit) (4.0.12)\n",
            "Requirement already satisfied: python-dateutil>=2.8.2 in /usr/local/lib/python3.11/dist-packages (from pandas<3,>=1.4.0->streamlit) (2.9.0.post0)\n",
            "Requirement already satisfied: pytz>=2020.1 in /usr/local/lib/python3.11/dist-packages (from pandas<3,>=1.4.0->streamlit) (2025.2)\n",
            "Requirement already satisfied: tzdata>=2022.7 in /usr/local/lib/python3.11/dist-packages (from pandas<3,>=1.4.0->streamlit) (2025.2)\n",
            "Requirement already satisfied: charset-normalizer<4,>=2 in /usr/local/lib/python3.11/dist-packages (from requests<3,>=2.27->streamlit) (3.4.2)\n",
            "Requirement already satisfied: idna<4,>=2.5 in /usr/local/lib/python3.11/dist-packages (from requests<3,>=2.27->streamlit) (3.10)\n",
            "Requirement already satisfied: urllib3<3,>=1.21.1 in /usr/local/lib/python3.11/dist-packages (from requests<3,>=2.27->streamlit) (2.4.0)\n",
            "Requirement already satisfied: certifi>=2017.4.17 in /usr/local/lib/python3.11/dist-packages (from requests<3,>=2.27->streamlit) (2025.7.9)\n",
            "Requirement already satisfied: smmap<6,>=3.0.1 in /usr/local/lib/python3.11/dist-packages (from gitdb<5,>=4.0.1->gitpython!=3.1.19,<4,>=3.0.7->streamlit) (5.0.2)\n",
            "Requirement already satisfied: MarkupSafe>=2.0 in /usr/local/lib/python3.11/dist-packages (from jinja2->altair<6,>=4.0->streamlit) (3.0.2)\n",
            "Requirement already satisfied: attrs>=22.2.0 in /usr/local/lib/python3.11/dist-packages (from jsonschema>=3.0->altair<6,>=4.0->streamlit) (25.3.0)\n",
            "Requirement already satisfied: jsonschema-specifications>=2023.03.6 in /usr/local/lib/python3.11/dist-packages (from jsonschema>=3.0->altair<6,>=4.0->streamlit) (2025.4.1)\n",
            "Requirement already satisfied: referencing>=0.28.4 in /usr/local/lib/python3.11/dist-packages (from jsonschema>=3.0->altair<6,>=4.0->streamlit) (0.36.2)\n",
            "Requirement already satisfied: rpds-py>=0.7.1 in /usr/local/lib/python3.11/dist-packages (from jsonschema>=3.0->altair<6,>=4.0->streamlit) (0.26.0)\n",
            "Requirement already satisfied: six>=1.5 in /usr/local/lib/python3.11/dist-packages (from python-dateutil>=2.8.2->pandas<3,>=1.4.0->streamlit) (1.17.0)\n",
            "Downloading streamlit-1.46.1-py3-none-any.whl (10.1 MB)\n",
            "\u001b[2K   \u001b[90m━━━━━━━━━━━━━━━━━━━━━━━━━━━━━━━━━━━━━━━━\u001b[0m \u001b[32m10.1/10.1 MB\u001b[0m \u001b[31m112.7 MB/s\u001b[0m eta \u001b[36m0:00:00\u001b[0m\n",
            "\u001b[?25hDownloading pydeck-0.9.1-py2.py3-none-any.whl (6.9 MB)\n",
            "\u001b[2K   \u001b[90m━━━━━━━━━━━━━━━━━━━━━━━━━━━━━━━━━━━━━━━━\u001b[0m \u001b[32m6.9/6.9 MB\u001b[0m \u001b[31m114.1 MB/s\u001b[0m eta \u001b[36m0:00:00\u001b[0m\n",
            "\u001b[?25hDownloading watchdog-6.0.0-py3-none-manylinux2014_x86_64.whl (79 kB)\n",
            "\u001b[2K   \u001b[90m━━━━━━━━━━━━━━━━━━━━━━━━━━━━━━━━━━━━━━━━\u001b[0m \u001b[32m79.1/79.1 kB\u001b[0m \u001b[31m7.3 MB/s\u001b[0m eta \u001b[36m0:00:00\u001b[0m\n",
            "\u001b[?25hInstalling collected packages: watchdog, pydeck, streamlit\n",
            "Successfully installed pydeck-0.9.1 streamlit-1.46.1 watchdog-6.0.0\n"
          ]
        }
      ]
    }
  ]
}